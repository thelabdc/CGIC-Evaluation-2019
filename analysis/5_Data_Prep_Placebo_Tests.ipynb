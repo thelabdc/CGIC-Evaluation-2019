{
 "cells": [
  {
   "cell_type": "markdown",
   "metadata": {},
   "source": [
    "In placebo tests, we run the synthetic control method on each PSA in the donor pool (i.e., all PSAs not in 7D) as if it was a treated PSA in 7D. These placebo PSAs are then compared with their synthetic counterparts; any deviations between a placebo PSA and its synthetic match would not be due to the implementation of CGIC 2.0 since the placebo PSAs were not treated.  By then comparing the difference between the treated PSAs and their corresponding synthetic controls to the difference between placebo PSAs and their controls, we can evaluate whether the deviation between the outcomes in treated PSAs and their synthetic counterparts are likely to reflect the impacts of CGIC 2.0 rather than random chance. \n",
    "\n",
    "This notebook uses the rolling means that came from `4_Quasi_Experimental_Analysis_Synthetic_Control.ipynb` to create real and synthetic rolling means for each metric, for every PSA, to prepare data to run placebo tests.\n",
    "\n",
    "Note to reader: The author is aware that it is not the best practice to name variables starting with a digit, however, the following R script uses this naming convention, so the author conformed to this standard"
   ]
  },
  {
   "cell_type": "code",
   "execution_count": 1,
   "metadata": {},
   "outputs": [],
   "source": [
    "import sys\n",
    "sys.path.append('..')\n",
    "\n",
    "import os\n",
    "import re #for regex\n",
    "\n",
    "import math\n",
    "import geopandas as gpd\n",
    "import numpy as np\n",
    "import pandas as pd\n",
    "from matplotlib import pyplot as plt\n",
    "\n",
    "from cgic_scripts import gis, plots, shotspotter, synth, synth_placebo\n",
    "\n",
    "%matplotlib inline\n",
    "\n",
    "# Colors for plotting\n",
    "lab_blue = '#2b4888'\n",
    "lab_pink = '#de4057'\n",
    "lab_grey = '#595959'\n"
   ]
  },
  {
   "cell_type": "code",
   "execution_count": 2,
   "metadata": {},
   "outputs": [],
   "source": [
    "# Column Names for PSA\n",
    "cols = list(np.arange(701, 709, 1)) \n",
    "#psas_loop = list(np.arange(100, 900, 100))\n",
    "\n",
    "# list of Districts, from 1 to 7, for help w dynamically creating variables\n",
    "districts = list(np.arange(1,8,1))\n",
    "districts = [str(i) + 'D' for i in districts]\n",
    "\n",
    "# Create a list of all the PSAs in the District \n",
    "# Each District does not have the same number of PSAs\n",
    "d1 = list(np.arange(101, 109, 1)) \n",
    "d2 = list(np.arange(201, 209, 1))\n",
    "d3 = list(np.arange(301, 309, 1))\n",
    "d4 = list(np.arange(401, 410, 1))\n",
    "d5 = list(np.arange(501, 508, 1))\n",
    "d6 = list(np.arange(601, 609, 1))\n",
    "d7 = list(np.arange(701, 709, 1))\n",
    "\n",
    "# Concat the list\n",
    "psa_list = [d1, d2, d3, d4, d5, d6, d7]"
   ]
  },
  {
   "cell_type": "code",
   "execution_count": 3,
   "metadata": {},
   "outputs": [],
   "source": [
    "DATA_DIR = os.path.join('..', 'data')\n",
    "\n",
    "# Read in the rolling means: \n",
    "aggregate_shotspotter_df = pd.read_csv(os.path.join(DATA_DIR,'aggregate_shotspotter_df.csv'))\n",
    "aggregate_calls_df = pd.read_csv(os.path.join(DATA_DIR,'aggregate_calls_df.csv'))\n",
    "agg_violent_crime_df = pd.read_csv(os.path.join(DATA_DIR,'aggregate_violent_crime_df.csv'))\n",
    "agg_gun_crime_df = pd.read_csv(os.path.join(DATA_DIR,'aggregate_gun_crime_df.csv'))\n",
    "agg_top_broad_arrests_df = pd.read_csv(os.path.join(DATA_DIR,'aggregate_broad_arrests_df.csv'))\n",
    "agg_gun_arrests_df = pd.read_csv(os.path.join(DATA_DIR,'aggregate_gun_arrests_df.csv'))\n",
    "agg_top_violent_gun_crime_df = pd.read_csv(os.path.join(DATA_DIR,'aggregate_violent_gun_arrests_df.csv'))"
   ]
  },
  {
   "cell_type": "markdown",
   "metadata": {},
   "source": [
    "## Calls for Service"
   ]
  },
  {
   "cell_type": "code",
   "execution_count": 4,
   "metadata": {},
   "outputs": [],
   "source": [
    "for i in range(len(psa_list)):\n",
    "    synthetic_control, real7D, synthetic_control_pre, real_pre, control_less_real = \\\n",
    "                synth_placebo.perform_control(ddf=aggregate_calls_df,\n",
    "                                              p=1,\n",
    "                                              fig=False, \n",
    "                                              plot_all_periods = True,\n",
    "                                              soft_convex=False,\n",
    "                                              treatment_psas = psa_list[i], \n",
    "                                              exclude_psas = [])\n",
    "    #Create variables on the fly, with the variable name, district id, and type of info\n",
    "    vars()[districts[i] + '_calls_synth_post'] = pd.DataFrame(synthetic_control)\n",
    "    vars()[districts[i] + '_calls_synth_pre'] = pd.DataFrame(synthetic_control_pre)\n",
    "    vars()[districts[i] + '_calls_real_post'] = pd.DataFrame(real7D)\n",
    "    vars()[districts[i] + '_calls_real_pre'] = pd.DataFrame(real_pre)\n",
    "    \n",
    "    #Rename columns\n",
    "    globals()[districts[i] + '_calls_synth_post'].columns = psa_list[i]\n",
    "    globals()[districts[i] + '_calls_synth_pre'].columns = psa_list[i]\n",
    "    globals()[districts[i] + '_calls_real_post'].columns = psa_list[i]\n",
    "    globals()[districts[i] + '_calls_real_pre'].columns = psa_list[i]"
   ]
  },
  {
   "cell_type": "markdown",
   "metadata": {},
   "source": [
    "## ShotSpotter"
   ]
  },
  {
   "cell_type": "code",
   "execution_count": 5,
   "metadata": {},
   "outputs": [],
   "source": [
    "# Shotspotter is special bc it doesn't have any PSAs in 2D, and completely missing PSAs 101, 102, and 401\n",
    "d1_alt = list(np.arange(103, 109, 1)) \n",
    "d4_alt = list(np.arange(402, 410, 1))\n",
    "shotspot_psa_list = [d1_alt, d3, d4_alt, d5, d6, d7]\n",
    "shotspot_districts = [item for item in districts if item !='2D'] \n",
    "\n",
    "for i in range(len(shotspot_psa_list)):\n",
    "    synthetic_control, real7D, synthetic_control_pre, real_pre, control_less_real = \\\n",
    "                synth_placebo.perform_control(ddf=aggregate_shotspotter_df,\n",
    "                                              p=1,\n",
    "                                              fig=False, \n",
    "                                              plot_all_periods = True,\n",
    "                                              soft_convex=False,\n",
    "                                              treatment_psas = shotspot_psa_list[i], \n",
    "                                              exclude_psas = [])\n",
    "    #Create variables on the fly, with the variable name, district id, and type of info\n",
    "    vars()[shotspot_districts[i] + '_shotspotter_synth_post'] = pd.DataFrame(synthetic_control)\n",
    "    vars()[shotspot_districts[i] + '_shotspotter_synth_pre'] = pd.DataFrame(synthetic_control_pre)\n",
    "    vars()[shotspot_districts[i] + '_shotspotter_real_post'] = pd.DataFrame(real7D)\n",
    "    vars()[shotspot_districts[i] + '_shotspotter_real_pre'] = pd.DataFrame(real_pre)\n",
    "    \n",
    "    globals()[shotspot_districts[i] + '_shotspotter_synth_post'].columns = shotspot_psa_list[i]\n",
    "    globals()[shotspot_districts[i] + '_shotspotter_synth_pre'].columns = shotspot_psa_list[i]\n",
    "    globals()[shotspot_districts[i] + '_shotspotter_real_post'].columns = shotspot_psa_list[i]\n",
    "    globals()[shotspot_districts[i] + '_shotspotter_real_pre'].columns = shotspot_psa_list[i]"
   ]
  },
  {
   "cell_type": "markdown",
   "metadata": {},
   "source": [
    "## Violent Crimes"
   ]
  },
  {
   "cell_type": "code",
   "execution_count": 6,
   "metadata": {},
   "outputs": [],
   "source": [
    "for i in range(len(psa_list)):\n",
    "    synthetic_control, real7D, synthetic_control_pre, real_pre, control_less_real = \\\n",
    "                synth_placebo.perform_control(ddf=agg_violent_crime_df,\n",
    "                                      p=1,\n",
    "                                      fig=False, \n",
    "                                      plot_all_periods = True,\n",
    "                                      soft_convex=False,\n",
    "                                      treatment_psas = psa_list[i], \n",
    "                                      exclude_psas = [])\n",
    "    #Create variables on the fly, with the variable name, district id, and type of info\n",
    "    vars()[districts[i] + '_dcr_violent_synth_post'] = pd.DataFrame(synthetic_control)\n",
    "    vars()[districts[i] + '_dcr_violent_synth_pre'] = pd.DataFrame(synthetic_control_pre)\n",
    "    vars()[districts[i] + '_dcr_violent_real_post'] = pd.DataFrame(real7D)\n",
    "    vars()[districts[i] + '_dcr_violent_real_pre'] = pd.DataFrame(real_pre)\n",
    "    \n",
    "     #Rename columns\n",
    "    globals()[districts[i] + '_dcr_violent_synth_post'].columns = psa_list[i]\n",
    "    globals()[districts[i] + '_dcr_violent_synth_pre'].columns = psa_list[i]\n",
    "    globals()[districts[i] + '_dcr_violent_real_post'].columns = psa_list[i]\n",
    "    globals()[districts[i] + '_dcr_violent_real_pre'].columns = psa_list[i]"
   ]
  },
  {
   "cell_type": "markdown",
   "metadata": {},
   "source": [
    "## Gun Crimes"
   ]
  },
  {
   "cell_type": "code",
   "execution_count": 7,
   "metadata": {
    "scrolled": false
   },
   "outputs": [],
   "source": [
    "for i in range(len(psa_list)):\n",
    "    synthetic_control, real7D, synthetic_control_pre, real_pre, control_less_real = \\\n",
    "                synth_placebo.perform_control(ddf=agg_gun_crime_df,\n",
    "                                              p=1,\n",
    "                                              fig=False, \n",
    "                                              plot_all_periods = True,\n",
    "                                              soft_convex=False,\n",
    "                                              treatment_psas = psa_list[i], \n",
    "                                              exclude_psas = [])\n",
    "    #Create variables on the fly, with the variable name, district id, and type of info\n",
    "    vars()[ districts[i] + '_dcr_gun_synth_post'] = pd.DataFrame(synthetic_control)\n",
    "    vars()[ districts[i] + '_dcr_gun_synth_pre'] = pd.DataFrame(synthetic_control_pre)\n",
    "    vars()[ districts[i] + '_dcr_gun_real_post'] = pd.DataFrame(real7D)\n",
    "    vars()[ districts[i] + '_dcr_gun_real_pre'] = pd.DataFrame(real_pre)\n",
    "\n",
    "    #Rename columns\n",
    "    globals()[districts[i] + '_dcr_gun_synth_post'].columns = psa_list[i]\n",
    "    globals()[districts[i] + '_dcr_gun_synth_pre'].columns = psa_list[i]\n",
    "    globals()[districts[i] + '_dcr_gun_real_post'].columns = psa_list[i]\n",
    "    globals()[districts[i] + '_dcr_gun_real_pre'].columns = psa_list[i]"
   ]
  },
  {
   "cell_type": "markdown",
   "metadata": {},
   "source": [
    "## \"Broad\" Arrests"
   ]
  },
  {
   "cell_type": "code",
   "execution_count": 8,
   "metadata": {},
   "outputs": [],
   "source": [
    "for i in range(len(psa_list)):\n",
    "    synthetic_control, real7D, synthetic_control_pre, real_pre, control_less_real = \\\n",
    "                synth_placebo.perform_control(ddf=agg_top_broad_arrests_df,\n",
    "                                      p=1,\n",
    "                                      fig=False, \n",
    "                                      plot_all_periods = True,\n",
    "                                      soft_convex=False,\n",
    "                                      treatment_psas = psa_list[i], \n",
    "                                      exclude_psas = [])\n",
    "    #Create variables on the fly, with the variable name, district id, and type of info\n",
    "    vars()[districts[i] + '_arrest_broad_synth_post'] = pd.DataFrame(synthetic_control)\n",
    "    vars()[districts[i] + '_arrest_broad_synth_pre'] = pd.DataFrame(synthetic_control_pre)\n",
    "    vars()[districts[i] + '_arrest_broad_real_post'] = pd.DataFrame(real7D)\n",
    "    vars()[districts[i] + '_arrest_broad_real_pre'] = pd.DataFrame(real_pre)\n",
    "    \n",
    "    #Rename columns\n",
    "    globals()[districts[i] + '_arrest_broad_synth_post'].columns = psa_list[i]\n",
    "    globals()[districts[i] + '_arrest_broad_synth_pre'].columns = psa_list[i]\n",
    "    globals()[districts[i] + '_arrest_broad_real_post'].columns = psa_list[i]\n",
    "    globals()[districts[i] + '_arrest_broad_real_pre'].columns = psa_list[i]"
   ]
  },
  {
   "cell_type": "markdown",
   "metadata": {},
   "source": [
    "## Gun Arrests"
   ]
  },
  {
   "cell_type": "code",
   "execution_count": 9,
   "metadata": {},
   "outputs": [],
   "source": [
    "d2_alt = []\n",
    "for i in range(len(psa_list)):\n",
    "    synthetic_control, real7D, synthetic_control_pre, real_pre, control_less_real = \\\n",
    "                synth_placebo.perform_control(ddf=agg_gun_arrests_df,\n",
    "                                      p=1,\n",
    "                                      fig=False, \n",
    "                                      plot_all_periods = True,\n",
    "                                      soft_convex=False,\n",
    "                                      treatment_psas = psa_list[i], \n",
    "                                      exclude_psas = [])\n",
    "    #Create variables on the fly, with the variable name, district id, and type of info\n",
    "    vars()[ districts[i] + '_arrest_violation_synth_post'] = pd.DataFrame(synthetic_control)\n",
    "    vars()[ districts[i] + '_arrest_violation_synth_pre'] = pd.DataFrame(synthetic_control_pre)\n",
    "    vars()[ districts[i] + '_arrest_violation_real_post'] = pd.DataFrame(real7D)\n",
    "    vars()[ districts[i] + '_arrest_violation_real_pre'] = pd.DataFrame(real_pre)\n",
    "    \n",
    "    #Rename columns\n",
    "    globals()[districts[i] + '_arrest_violation_synth_post'].columns = psa_list[i]\n",
    "    globals()[districts[i] + '_arrest_violation_synth_pre'].columns = psa_list[i]\n",
    "    globals()[districts[i] + '_arrest_violation_real_post'].columns = psa_list[i]\n",
    "    globals()[districts[i] + '_arrest_violation_real_pre'].columns = psa_list[i]"
   ]
  },
  {
   "cell_type": "markdown",
   "metadata": {},
   "source": [
    "## Violent Gun Arrests"
   ]
  },
  {
   "cell_type": "code",
   "execution_count": 10,
   "metadata": {},
   "outputs": [],
   "source": [
    "#missing 201, 202\n",
    "d2 = list(np.arange(203, 209, 1))\n",
    "\n",
    "# Concat the list\n",
    "psa_list = [d1, d2, d3, d4, d5, d6, d7]\n",
    "\n",
    "for i in range(len(psa_list)):\n",
    "    synthetic_control, real7D, synthetic_control_pre, real_pre, control_less_real = \\\n",
    "                synth_placebo.perform_control(ddf=agg_top_violent_gun_crime_df,\n",
    "                                      p=1,\n",
    "                                      fig=False, \n",
    "                                      plot_all_periods = True,\n",
    "                                      soft_convex=False,\n",
    "                                      treatment_psas = psa_list[i], \n",
    "                                      exclude_psas = [])\n",
    "    #Create variables on the fly, with the variable name, district id, and type of info\n",
    "    vars()[districts[i] + '_arrest_violent_synth_post'] = pd.DataFrame(synthetic_control)\n",
    "    vars()[districts[i] + '_arrest_violent_synth_pre'] = pd.DataFrame(synthetic_control_pre)\n",
    "    vars()[districts[i] + '_arrest_violent_real_post'] = pd.DataFrame(real7D)\n",
    "    vars()[districts[i] + '_arrest_violent_real_pre'] = pd.DataFrame(real_pre)\n",
    "    \n",
    "    #Rename columns\n",
    "    globals()[districts[i] + '_arrest_violent_synth_post'].columns = psa_list[i]\n",
    "    globals()[districts[i] + '_arrest_violent_synth_pre'].columns = psa_list[i]\n",
    "    globals()[districts[i] + '_arrest_violent_real_post'].columns = psa_list[i]\n",
    "    globals()[districts[i] + '_arrest_violent_real_pre'].columns = psa_list[i]"
   ]
  },
  {
   "cell_type": "markdown",
   "metadata": {},
   "source": [
    "# Write to CSVs for plotting in R"
   ]
  },
  {
   "cell_type": "code",
   "execution_count": 11,
   "metadata": {},
   "outputs": [],
   "source": [
    "metrics_list = ['_calls', '_dcr_violent', '_dcr_gun', \n",
    "               '_arrest_broad', '_arrest_violation', '_arrest_violent']\n",
    "\n",
    "data_types = ['_synth_post', '_synth_pre', '_real_post', '_real_pre']"
   ]
  },
  {
   "cell_type": "code",
   "execution_count": 12,
   "metadata": {},
   "outputs": [],
   "source": [
    "DATA_DIR = os.path.join('..', 'data/data_placebos')\n",
    "\n",
    "'''\n",
    "Triple nested for-loop to dynamically call variables and write to a csv file using those same names\n",
    "For every metric, district, and data-type combination, create a string called varname that concats these items\n",
    "Example:\n",
    "    district: '3D'\n",
    "    metric: '_dcr_violent'\n",
    "    data_type: '_synth_pre'\n",
    "Will become:\n",
    "    varname = '3D_dcr_violent_synth_pre'\n",
    "\n",
    "Then calls the variable name, and writes as csv that same string\n",
    "\n",
    "'''\n",
    "\n",
    "for d in range(len(districts)):\n",
    "    for m in range(len(metrics_list)):\n",
    "        for t in range(len(data_types)):\n",
    "            varname = districts[d]+metrics_list[m]+data_types[t]\n",
    "            globals()[varname].to_csv(os.path.join(DATA_DIR, varname + '.csv'), index = False)\n",
    "            \n",
    "\n",
    "            \n",
    "# ShotSpotter gets special treatment bc it doesn't contain 2D\n",
    "for d in range(len(shotspot_districts)):\n",
    "    for t in range(len(data_types)):\n",
    "        varname = shotspot_districts[d] + '_shotspotter' + data_types[t]\n",
    "        globals()[varname].to_csv(os.path.join(DATA_DIR, varname + '.csv'), index = False)"
   ]
  }
 ],
 "metadata": {
  "kernelspec": {
   "display_name": "Python 3",
   "language": "python",
   "name": "python3"
  },
  "language_info": {
   "codemirror_mode": {
    "name": "ipython",
    "version": 3
   },
   "file_extension": ".py",
   "mimetype": "text/x-python",
   "name": "python",
   "nbconvert_exporter": "python",
   "pygments_lexer": "ipython3",
   "version": "3.6.6"
  }
 },
 "nbformat": 4,
 "nbformat_minor": 2
}
