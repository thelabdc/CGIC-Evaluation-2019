{
 "cells": [
  {
   "cell_type": "markdown",
   "metadata": {},
   "source": [
    "This notebook takes a descriptive look at clearance rates for MPD cases with and without NIBIN information."
   ]
  },
  {
   "cell_type": "code",
   "execution_count": 1,
   "metadata": {},
   "outputs": [],
   "source": [
    "import sys\n",
    "sys.path.append('..')\n",
    "import os \n",
    "import pandas as pd\n",
    "import re #For regular expressions\n",
    "import numpy as np\n",
    "\n",
    "import matplotlib.pyplot as plt\n",
    "import seaborn as sns\n",
    "\n",
    "lab_blue = '#2b4888'\n",
    "lab_pink = '#de4057'\n",
    "lab_grey = '#595959'\n",
    "\n",
    "# Where our data lives\n",
    "DATA_DIR = os.path.join('..', 'data')"
   ]
  },
  {
   "cell_type": "markdown",
   "metadata": {},
   "source": [
    "## Data Munging"
   ]
  },
  {
   "cell_type": "code",
   "execution_count": 2,
   "metadata": {
    "scrolled": false
   },
   "outputs": [],
   "source": [
    "#Read in data from MPD\n",
    "\n",
    "## ------- Crimes data ------- ##\n",
    "dcr_crimes = pd.read_csv(os.path.join(DATA_DIR, 'DCRCrime_161101_190430.csv'),\n",
    "                         dtype={'CCN': str}, \n",
    "                         parse_dates = [['Event Start Date', 'Event Start Time']])\n",
    "\n",
    "dcr_crimes.rename(columns={'Event Start Date_Event Start Time': 'event_time'}, \n",
    "                  inplace = True)\n",
    "\n",
    "# Condense so that we only have 1 date, and convert to a datetime format. \n",
    "dcr_crimes['event_time'] = pd.to_datetime(dcr_crimes.event_time\\\n",
    "                                          .apply(lambda x: re.findall(r'(.* [AP]M) ', x)[0]))\n",
    "\n",
    "\n",
    "dcr_crimes = dcr_crimes.drop(['DCR Report Hour',\n",
    "                              'DCR Report Date&Time',\n",
    "                              'Start Hour', \n",
    "                              'Weekday', \n",
    "                              'Offense Location District',\n",
    "                              'Offense Location GEOX',\n",
    "                              'Offense Location GEOY'], axis=1)\n",
    "\n",
    "\n",
    "## ------- Arrests Data ------- ##\n",
    "arrests = pd.read_csv(os.path.join(DATA_DIR, 'all_arrests_2016_2019.csv'), \n",
    "                      encoding = 'cp1252', dtype={'CCN': str}, \n",
    "                      parse_dates = [['Arrest Date', 'Arrest Time']])\n",
    "\n",
    "arrests.rename(columns={'Arrest Date_Arrest Time': 'event_time',\n",
    "                        'Arrest Booking Date_Arrest Booking Time': 'booking_time',\n",
    "                        'Arrest Investigation Severity': 'severity',\n",
    "                        'Charge Description': 'charge_description',\n",
    "                        'Arrest Investigation Category/Description': 'category',\n",
    "                        'Arrest Number#': 'arrest_id',\n",
    "                        'Charge Number': 'charge_id'}, \n",
    "               inplace = True)\n",
    "\n",
    "# drop rows that do not have a location\n",
    "arrests = arrests[~(arrests['Arrest Location GeoX'].isnull()|arrests['Arrest Location GeoY'].isnull())]\n",
    "\n",
    "arrests = arrests.drop(['Defendant Last Name',\n",
    "                        'Defendant First Name', \n",
    "                        'Defendant Middle Name', \n",
    "                        'Defendant DOB',\n",
    "                        'Defendant Address1', \n",
    "                        'Defendant Address2', \n",
    "                        'Defendant City',\n",
    "                        'Defendant State',\n",
    "                        'Defendant District',\n",
    "                        'Defendant Race', \n",
    "                        'Defendant Ethnicity',\n",
    "                        'Arresting Officer First Name', \n",
    "                        'Arresting Officer Last Name'], axis=1)\n",
    "\n",
    "\n",
    "## ------- NIBIN data ------- ##\n",
    "\n",
    "# Read the sheets from the Excel file sent to us by the Department of Forensic Sciences (DFS)\n",
    "nibin = pd.read_excel(os.path.join(DATA_DIR,'NIBIN_Entry_thelab_2017-2019.xlsx'), \n",
    "                      sheet_name=None)\n",
    "\n",
    "# Assign each sheet its own dataframe\n",
    "nibin_entries = nibin['NIBIN_Entry'] \n",
    "nibin_hits = nibin['nibin_hits']"
   ]
  },
  {
   "cell_type": "code",
   "execution_count": 3,
   "metadata": {},
   "outputs": [
    {
     "name": "stdout",
     "output_type": "stream",
     "text": [
      "(23445, 20)\n",
      "(694, 4)\n"
     ]
    }
   ],
   "source": [
    "# Clean NIBIN data\n",
    "\n",
    "# DC CCNs should start with the last two digits of the year eg 19_\n",
    "# followed by 6 numbers.\n",
    "\n",
    "# We want to standardize the CCNs, and grab the last 8 digits of the CCNs\n",
    "for df in [nibin_entries, nibin_hits]:\n",
    "    #Remove hyphens\n",
    "    df['CCN'] = df['CCN'].str.replace('-', '')\n",
    "    #Get the last 8 digits\n",
    "    df['CCN'] = df['CCN'].str[-8:]\n",
    "\n",
    "    \n",
    "# The following two chunks drops rows that do not have a CCN and ensures that the \n",
    "# entries and hits we get follow the rule of thumb that CCN starts with the year\n",
    "nibin_entries = nibin_entries[~nibin_entries.CCN.isna()]\n",
    "nibin_entries = nibin_entries[(nibin_entries.CCN.str.startswith('19'))|\\\n",
    "                              (nibin_entries.CCN.str.startswith('18'))|\\\n",
    "                              (nibin_entries.CCN.str.startswith('17'))|\\\n",
    "                              (nibin_entries.CCN.str.startswith('16'))]    \n",
    "\n",
    "nibin_hits = nibin_hits[~nibin_hits.CCN.isna()]\n",
    "nibin_hits = nibin_hits[(nibin_hits.CCN.str.startswith('19'))|\\\n",
    "                        (nibin_hits.CCN.str.startswith('18'))|\\\n",
    "                        (nibin_hits.CCN.str.startswith('17'))|\\\n",
    "                        (nibin_hits.CCN.str.startswith('16'))]\n",
    "\n",
    "\n",
    "print(nibin_entries.shape)\n",
    "print(nibin_hits.shape)"
   ]
  },
  {
   "cell_type": "code",
   "execution_count": 4,
   "metadata": {
    "scrolled": true
   },
   "outputs": [
    {
     "name": "stdout",
     "output_type": "stream",
     "text": [
      "Checking date range:\n",
      "Date range for crimes:  2017-11-01 00:00:42 to 2019-04-30 22:30:24\n",
      "Date range for arrests:  2017-11-01 00:00:29 to 2019-04-30 23:43:30\n",
      "\n",
      "\n",
      "Filtering for PSAs contained within 7D:\n",
      "Rows and columns before filtering: (48928, 15)\n",
      "Rows and columns after filtering: (3739, 15)\n"
     ]
    }
   ],
   "source": [
    "## Filter our datasets to be within the period of interest\n",
    "date_start = '2017-11-01'\n",
    "date_end = '2019-05-01'\n",
    "\n",
    "dcr_crimes = dcr_crimes[(dcr_crimes.event_time >= date_start) & (dcr_crimes.event_time < date_end)]\n",
    "arrests = arrests[(arrests.event_time >= date_start) & (arrests.event_time < date_end)]\n",
    "\n",
    "print('Checking date range:')\n",
    "print('Date range for crimes: ', dcr_crimes.event_time.min(), 'to', dcr_crimes.event_time.max())\n",
    "print('Date range for arrests: ', arrests.event_time.min(), 'to', arrests.event_time.max())\n",
    "print('\\n')\n",
    "\n",
    "\n",
    "## Filter our dataset to be contained within the location of interest (7D). \n",
    "# Create a list of PSAs in 7D, and convert them to strings \n",
    "psa_list = (np.arange(701, 709, 1))\n",
    "psa_list = [str(i) for i in psa_list]\n",
    "\n",
    "print('Filtering for PSAs contained within 7D:')\n",
    "print('Rows and columns before filtering:', dcr_crimes.shape)\n",
    "dcr_crimes_7D = dcr_crimes[dcr_crimes['Offense Location PSA'].isin(psa_list)]\n",
    "print('Rows and columns after filtering:', dcr_crimes_7D.shape)"
   ]
  },
  {
   "cell_type": "markdown",
   "metadata": {},
   "source": [
    "## Create the baseline using violent crime incidents (using DCR Crimes dataset)"
   ]
  },
  {
   "cell_type": "code",
   "execution_count": 5,
   "metadata": {},
   "outputs": [
    {
     "name": "stdout",
     "output_type": "stream",
     "text": [
      "Rows and columns for DC: (2328, 15)\n",
      "Rows and columns for 7D: (524, 15)\n"
     ]
    }
   ],
   "source": [
    "## Filter for violent crime\n",
    "# These are the words that are associated with violent offenses\n",
    "violent_offenses = [\"Homicide\", \"Assault with a Dangerous Weapon\", \"Robbery\", \"Sex Abuse\"]\n",
    "violent_offenses = [x.lower() for x in violent_offenses]\n",
    "\n",
    "# For DC as a whole:\n",
    "# Filter for violent crimes, then filter for weapon == 'GUN'\n",
    "violent_crimes_DC = dcr_crimes[dcr_crimes['Offense Category'].str.lower().isin(violent_offenses)].copy()\n",
    "violent_gun_crimes_DC = violent_crimes_DC[violent_crimes_DC['DCR Weapon']=='GUN'].copy()\n",
    "#There's one crime that's an exact duplicate, but 2 reports filed\n",
    "violent_gun_crimes_DC.drop_duplicates(subset = 'CCN', inplace = True) \n",
    "print('Rows and columns for DC:', violent_gun_crimes_DC.shape)\n",
    "\n",
    "# For just 7D\n",
    "violent_crimes_7D = dcr_crimes_7D[dcr_crimes_7D['Offense Category'].str.lower().isin(violent_offenses)].copy()\n",
    "violent_crimes_7D = violent_crimes_7D[violent_crimes_7D['DCR Weapon']=='GUN']\n",
    "violent_crimes_7D.drop_duplicates(subset = 'CCN', inplace = True)\n",
    "print('Rows and columns for 7D:', violent_crimes_7D.shape)      "
   ]
  },
  {
   "cell_type": "markdown",
   "metadata": {},
   "source": [
    "## Join the arrests dataset to the baseline data"
   ]
  },
  {
   "cell_type": "code",
   "execution_count": 6,
   "metadata": {},
   "outputs": [
    {
     "name": "stdout",
     "output_type": "stream",
     "text": [
      "Rows and columns in our arrests dataset: (111029, 28)\n",
      "Rows and columns after filtering for the top charge: (70387, 28)\n"
     ]
    }
   ],
   "source": [
    "# First, get the top charge (what the defendant was actually charged with)\n",
    "print('Rows and columns in our arrests dataset:', arrests.shape)\n",
    "\n",
    "def get_top_charge(df):\n",
    "    #use 'severity' column to get the top charge\n",
    "    return df.sort_values(by=['arrest_id', 'severity'], ascending=[True, False]).drop_duplicates('arrest_id')\n",
    "\n",
    "arrests = get_top_charge(arrests) \n",
    "print('Rows and columns after filtering for the top charge:', arrests.shape)"
   ]
  },
  {
   "cell_type": "code",
   "execution_count": 7,
   "metadata": {},
   "outputs": [
    {
     "name": "stdout",
     "output_type": "stream",
     "text": [
      "Rows and columns for the cases we are looking at: (524, 43)\n"
     ]
    }
   ],
   "source": [
    "# Merge arrests dataset to the cases dataset for 7D\n",
    "cases = violent_crimes_7D.merge(arrests, how = 'left', on = 'CCN', indicator=True)\n",
    "\n",
    "# Drop duplicate CCNs. This is because I only care if there's AT LEAST one arrest. \n",
    "cases.drop_duplicates(subset = 'CCN', inplace = True)\n",
    "\n",
    "#If the CCN appeared in both, that means a person was arrested and the case was cleared\n",
    "cases['arrested'] = cases._merge == 'both'\n",
    "cases.drop('_merge', axis = 1, inplace=True)\n",
    "\n",
    "print('Rows and columns for the cases we are looking at:',cases.shape)"
   ]
  },
  {
   "cell_type": "code",
   "execution_count": 8,
   "metadata": {},
   "outputs": [
    {
     "name": "stdout",
     "output_type": "stream",
     "text": [
      "How many cases have been cleared?\n",
      "\n",
      "False    403\n",
      "True     121\n",
      "Name: arrested, dtype: int64\n",
      "\n",
      "False    0.769084\n",
      "True     0.230916\n",
      "Name: arrested, dtype: float64\n"
     ]
    }
   ],
   "source": [
    "print('How many cases have been cleared?\\n')\n",
    "print(cases.arrested.value_counts())\n",
    "print()\n",
    "print(cases.arrested.value_counts(normalize = True))"
   ]
  },
  {
   "cell_type": "markdown",
   "metadata": {},
   "source": [
    "# Merge with NIBIN information"
   ]
  },
  {
   "cell_type": "markdown",
   "metadata": {},
   "source": [
    "## NIBIN Entries\n",
    "\n",
    "NIBIN entries: firearms and cartridge casings that have been entered into NIBIN."
   ]
  },
  {
   "cell_type": "code",
   "execution_count": 9,
   "metadata": {},
   "outputs": [],
   "source": [
    "# Drop duplicate CCNs. We only care about cases that have had AT LEAST one nibin entry\n",
    "entries = nibin_entries.drop_duplicates(subset = 'CCN', keep = 'first')\n",
    "\n",
    "# Inner join with cases data so that we're only looking at NIBIN-entry info\n",
    "cases_entry = cases.merge(entries[['CCN']], how = 'left', on = 'CCN', indicator = True)\n",
    "\n",
    "\n",
    "# Cases that had no NIBIN information will only appear in the left table \n",
    "no_nibin_info = cases_entry[cases_entry._merge == 'left_only']\n",
    "\n",
    "# Cases that had a NIBIN entry will appear in both tables\n",
    "cases_entry = cases_entry[cases_entry._merge == 'both']"
   ]
  },
  {
   "cell_type": "code",
   "execution_count": 10,
   "metadata": {},
   "outputs": [
    {
     "name": "stdout",
     "output_type": "stream",
     "text": [
      "Number of cases with arrests (True) with no NIBIN entries\n",
      "False    217\n",
      "True      57\n",
      "Name: arrested, dtype: int64\n",
      "\n",
      "Number of cases with arrests (True) with *at least* 1 NIBIN entry\n",
      "\n",
      "False    186\n",
      "True      64\n",
      "Name: arrested, dtype: int64\n",
      "\n",
      "False    0.744\n",
      "True     0.256\n",
      "Name: arrested, dtype: float64\n"
     ]
    }
   ],
   "source": [
    "print('Number of cases with arrests (True) with no NIBIN entries')\n",
    "print(no_nibin_info.arrested.value_counts())\n",
    "print()\n",
    "\n",
    "print('Number of cases with arrests (True) with *at least* 1 NIBIN entry\\n')\n",
    "print(cases_entry.arrested.value_counts())\n",
    "print()\n",
    "print(cases_entry.arrested.value_counts(normalize = True))"
   ]
  },
  {
   "cell_type": "markdown",
   "metadata": {},
   "source": [
    "## NIBIN Hits"
   ]
  },
  {
   "cell_type": "code",
   "execution_count": 11,
   "metadata": {},
   "outputs": [
    {
     "name": "stdout",
     "output_type": "stream",
     "text": [
      "Number of cases that had at least one NIBIN hit (81, 47)\n",
      "\n",
      "Cases with at least one arrest (True) that had at least one NIBIN hit:\n",
      "False    58\n",
      "True     23\n",
      "Name: arrested, dtype: int64\n",
      "\n",
      "False    0.716049\n",
      "True     0.283951\n",
      "Name: arrested, dtype: float64\n"
     ]
    }
   ],
   "source": [
    "# Drop duplicate entries and merge with case data\n",
    "hits = nibin_hits.drop_duplicates(subset = 'CCN', keep = 'first')\n",
    "cases_nibin_hits = cases_entry.merge(nibin_hits, how = 'inner', on = 'CCN')\n",
    "print('Number of cases that had at least one NIBIN hit', cases_nibin_hits.shape)\n",
    "print()\n",
    "\n",
    "print('Cases with at least one arrest (True) that had at least one NIBIN hit:')\n",
    "print(cases_nibin_hits.arrested.value_counts())\n",
    "print()\n",
    "print(cases_nibin_hits.arrested.value_counts(normalize = True))"
   ]
  },
  {
   "cell_type": "markdown",
   "metadata": {},
   "source": [
    "# Plots"
   ]
  },
  {
   "cell_type": "markdown",
   "metadata": {},
   "source": [
    "This section generates the plots that go into the final report. We examine cases with and without NIBIN information, because our initial analysis shows that the more information we get, i.e. having ballistics evidence entered into NIBIN and having a case with at least one NIBIN hit, the higher the clearance rate. However, we hypothesize that crimes involving ballistics evidence (e.g. homicides) are substantially different from crimes without ballistics evidence (e.g. robberies) in that there are more resources devoted to those types of crimes, so we examine both to see if that is truly the case. "
   ]
  },
  {
   "cell_type": "code",
   "execution_count": 12,
   "metadata": {},
   "outputs": [],
   "source": [
    "def removeHomicides(df):\n",
    "    ''' \n",
    "    This takes in a dataframe and returns a dataframe with the \n",
    "    rows where the offense category includes 'Homicide' are removed. \n",
    "    '''\n",
    "    removed = df[df['Offense Category'] != 'Homicide']\n",
    "    return removed\n",
    "    \n",
    "cases_no_hom = removeHomicides(cases) # All cases, including those with and without NIBIN info\n",
    "no_nibin_no_hom = removeHomicides(no_nibin_info) # Cases w/o NIBIN info\n",
    "entry_no_hom = removeHomicides(cases_entry) # Cases w at least 1 NIBIN entry\n",
    "hits_no_hom = removeHomicides(cases_nibin_hits) # Cases w at least 1 NIBIN hit"
   ]
  },
  {
   "cell_type": "code",
   "execution_count": 13,
   "metadata": {},
   "outputs": [
    {
     "data": {
      "text/html": [
       "<div>\n",
       "<style scoped>\n",
       "    .dataframe tbody tr th:only-of-type {\n",
       "        vertical-align: middle;\n",
       "    }\n",
       "\n",
       "    .dataframe tbody tr th {\n",
       "        vertical-align: top;\n",
       "    }\n",
       "\n",
       "    .dataframe thead th {\n",
       "        text-align: right;\n",
       "    }\n",
       "</style>\n",
       "<table border=\"1\" class=\"dataframe\">\n",
       "  <thead>\n",
       "    <tr style=\"text-align: right;\">\n",
       "      <th></th>\n",
       "      <th>Homicide</th>\n",
       "      <th>Metric</th>\n",
       "      <th>Cleared Cases</th>\n",
       "      <th>Total Cases</th>\n",
       "      <th>Clearance Rate %</th>\n",
       "    </tr>\n",
       "  </thead>\n",
       "  <tbody>\n",
       "    <tr>\n",
       "      <th>0</th>\n",
       "      <td>All Offenses</td>\n",
       "      <td>All Violent Offenses</td>\n",
       "      <td>121</td>\n",
       "      <td>524</td>\n",
       "      <td>23.091603</td>\n",
       "    </tr>\n",
       "    <tr>\n",
       "      <th>1</th>\n",
       "      <td>All Offenses</td>\n",
       "      <td>No Ballistics Evidence</td>\n",
       "      <td>57</td>\n",
       "      <td>274</td>\n",
       "      <td>20.802920</td>\n",
       "    </tr>\n",
       "    <tr>\n",
       "      <th>2</th>\n",
       "      <td>All Offenses</td>\n",
       "      <td>Any Ballistics Evidence</td>\n",
       "      <td>64</td>\n",
       "      <td>250</td>\n",
       "      <td>25.600000</td>\n",
       "    </tr>\n",
       "    <tr>\n",
       "      <th>3</th>\n",
       "      <td>All Offenses</td>\n",
       "      <td>NIBIN Hit</td>\n",
       "      <td>23</td>\n",
       "      <td>81</td>\n",
       "      <td>28.395062</td>\n",
       "    </tr>\n",
       "    <tr>\n",
       "      <th>4</th>\n",
       "      <td>Homicides Excluded</td>\n",
       "      <td>All Violent Offenses</td>\n",
       "      <td>103</td>\n",
       "      <td>467</td>\n",
       "      <td>22.055675</td>\n",
       "    </tr>\n",
       "    <tr>\n",
       "      <th>5</th>\n",
       "      <td>Homicides Excluded</td>\n",
       "      <td>No Ballistics Evidence</td>\n",
       "      <td>55</td>\n",
       "      <td>267</td>\n",
       "      <td>20.599251</td>\n",
       "    </tr>\n",
       "    <tr>\n",
       "      <th>6</th>\n",
       "      <td>Homicides Excluded</td>\n",
       "      <td>Any Ballistics Evidence</td>\n",
       "      <td>48</td>\n",
       "      <td>200</td>\n",
       "      <td>24.000000</td>\n",
       "    </tr>\n",
       "    <tr>\n",
       "      <th>7</th>\n",
       "      <td>Homicides Excluded</td>\n",
       "      <td>NIBIN Hit</td>\n",
       "      <td>11</td>\n",
       "      <td>60</td>\n",
       "      <td>18.333333</td>\n",
       "    </tr>\n",
       "  </tbody>\n",
       "</table>\n",
       "</div>"
      ],
      "text/plain": [
       "             Homicide                   Metric  Cleared Cases  Total Cases  \\\n",
       "0        All Offenses     All Violent Offenses            121          524   \n",
       "1        All Offenses   No Ballistics Evidence             57          274   \n",
       "2        All Offenses  Any Ballistics Evidence             64          250   \n",
       "3        All Offenses                NIBIN Hit             23           81   \n",
       "4  Homicides Excluded     All Violent Offenses            103          467   \n",
       "5  Homicides Excluded   No Ballistics Evidence             55          267   \n",
       "6  Homicides Excluded  Any Ballistics Evidence             48          200   \n",
       "7  Homicides Excluded                NIBIN Hit             11           60   \n",
       "\n",
       "   Clearance Rate %  \n",
       "0         23.091603  \n",
       "1         20.802920  \n",
       "2         25.600000  \n",
       "3         28.395062  \n",
       "4         22.055675  \n",
       "5         20.599251  \n",
       "6         24.000000  \n",
       "7         18.333333  "
      ]
     },
     "execution_count": 13,
     "metadata": {},
     "output_type": "execute_result"
    }
   ],
   "source": [
    "# Set up a dataframe with the clearance rates broken out by all cases, \n",
    "#  cases w/o NIBIN info, cases with NIBIN entries, cases with NIBIN hits\n",
    "\n",
    "# list of measures \n",
    "offenses = ['All Offenses', 'Homicides Excluded'] * 4\n",
    "metric = ['All Violent Offenses', 'No Ballistics Evidence', 'Any Ballistics Evidence', 'NIBIN Hit']*2\n",
    "offenses.sort()\n",
    "\n",
    "# list of dfs we need information on \n",
    "dfs = [cases, no_nibin_info, cases_entry, cases_nibin_hits,\n",
    "       cases_no_hom, no_nibin_no_hom, entry_no_hom, hits_no_hom]\n",
    "\n",
    "# get the sums and the total number of cases for each df\n",
    "sums_list = []\n",
    "total_cases_list = []\n",
    "\n",
    "for df in dfs:\n",
    "    sums_list.append(sum(df.arrested))\n",
    "    total_cases_list.append(len(df))\n",
    "\n",
    "# Turn into a dataframe    \n",
    "summary = pd.DataFrame({'Homicide' : offenses, \n",
    "                        'Metric' : metric, \n",
    "                        'Cleared Cases' : sums_list, \n",
    "                        'Total Cases' : total_cases_list})\n",
    "\n",
    "summary['Clearance Rate %'] = summary['Cleared Cases']/summary['Total Cases']*100\n",
    "\n",
    "summary"
   ]
  },
  {
   "cell_type": "code",
   "execution_count": 14,
   "metadata": {},
   "outputs": [],
   "source": [
    "def showDataLabels(df, varname):\n",
    "    ''' \n",
    "    Function for creating data labels\n",
    "    '''\n",
    "    # Get current axis on current figure\n",
    "    ax = plt.gca()\n",
    "    \n",
    "    n = list((df[varname]).astype(int)) #Raw value\n",
    "    listerator = 0 #my iterator for the list\n",
    "\n",
    "    for p in ax.patches: \n",
    "        height = p.get_height()\n",
    "        width = p.get_x() + p.get_width()/2.\n",
    "        height = np.where(np.isnan(height), 0, height)\n",
    "        ax.text(x = width, \n",
    "                y = height, \n",
    "                s = '%.1f' % float(height) + '%\\n' + 'N=' + str(n[listerator]),\n",
    "                fontsize=11, \n",
    "                color='black', \n",
    "                ha='center', \n",
    "                va='bottom')\n",
    "        if listerator < len(n)-1:\n",
    "            listerator += 1"
   ]
  },
  {
   "cell_type": "code",
   "execution_count": 15,
   "metadata": {},
   "outputs": [
    {
     "data": {
      "image/png": "[encoded data removed]",
      "text/plain": [
       "<Figure size 936x648 with 1 Axes>"
      ]
     },
     "metadata": {},
     "output_type": "display_data"
    }
   ],
   "source": [
    "# Side-by-side bar plot of clearance rates for cases involving homicides + cases without homicide\n",
    "\n",
    "plt.figure(figsize = (13,9))\n",
    "\n",
    "sns.barplot(x = 'Metric', \n",
    "            y = 'Clearance Rate %', \n",
    "            hue = 'Homicide', \n",
    "            data = summary, \n",
    "            palette=[lab_blue, lab_pink])\n",
    "\n",
    "plt.xlabel('')\n",
    "plt.ylabel('Clearance Rate %', fontsize = 12)\n",
    "plt.title('MPD Clearance Rates for All Violent Offenses in 7D Compared to Cases Excluding Homicides' + \n",
    "          '\\n between November 1, 2017 and April 30, 2019', fontsize = 14)\n",
    "\n",
    "plt.xticks(fontsize=12)\n",
    "plt.yticks(fontsize=12)\n",
    "plt.gca().legend().set_title('')\n",
    "\n",
    "showDataLabels(df=summary, varname='Total Cases')"
   ]
  },
  {
   "cell_type": "code",
   "execution_count": 16,
   "metadata": {},
   "outputs": [],
   "source": [
    "def generateCrosstabs(df):\n",
    "    '''\n",
    "    Function to generate crosstabs specifically for USAO data\n",
    "    \n",
    "    '''\n",
    "    \n",
    "    xtab = pd.crosstab(df['Offense Category'], df.arrested, \n",
    "                       margins=True, margins_name= 'Total')\\\n",
    "                      .reset_index()\\\n",
    "                      .sort_values(by = 'Total', ascending = False)[1:]\n",
    "    xtab['Clearance Rate'] = round(xtab[True]/xtab.Total*100,2)\n",
    "    \n",
    "    return xtab"
   ]
  },
  {
   "cell_type": "code",
   "execution_count": 17,
   "metadata": {},
   "outputs": [
    {
     "data": {
      "text/html": [
       "<div>\n",
       "<style scoped>\n",
       "    .dataframe tbody tr th:only-of-type {\n",
       "        vertical-align: middle;\n",
       "    }\n",
       "\n",
       "    .dataframe tbody tr th {\n",
       "        vertical-align: top;\n",
       "    }\n",
       "\n",
       "    .dataframe thead th {\n",
       "        text-align: right;\n",
       "    }\n",
       "</style>\n",
       "<table border=\"1\" class=\"dataframe\">\n",
       "  <thead>\n",
       "    <tr style=\"text-align: right;\">\n",
       "      <th>arrested</th>\n",
       "      <th>Offense Category</th>\n",
       "      <th>False</th>\n",
       "      <th>True</th>\n",
       "      <th>Total</th>\n",
       "      <th>Clearance Rate</th>\n",
       "      <th>Type of Info</th>\n",
       "    </tr>\n",
       "  </thead>\n",
       "  <tbody>\n",
       "    <tr>\n",
       "      <th>1</th>\n",
       "      <td>Assault with a Dangerous Weapon</td>\n",
       "      <td>60</td>\n",
       "      <td>23</td>\n",
       "      <td>83</td>\n",
       "      <td>27.71</td>\n",
       "      <td>No NIBIN Info</td>\n",
       "    </tr>\n",
       "    <tr>\n",
       "      <th>2</th>\n",
       "      <td>Homicide</td>\n",
       "      <td>5</td>\n",
       "      <td>2</td>\n",
       "      <td>7</td>\n",
       "      <td>28.57</td>\n",
       "      <td>No NIBIN Info</td>\n",
       "    </tr>\n",
       "    <tr>\n",
       "      <th>0</th>\n",
       "      <td>Robbery</td>\n",
       "      <td>151</td>\n",
       "      <td>31</td>\n",
       "      <td>182</td>\n",
       "      <td>17.03</td>\n",
       "      <td>No NIBIN Info</td>\n",
       "    </tr>\n",
       "    <tr>\n",
       "      <th>3</th>\n",
       "      <td>Sex Abuse</td>\n",
       "      <td>1</td>\n",
       "      <td>1</td>\n",
       "      <td>2</td>\n",
       "      <td>50.00</td>\n",
       "      <td>No NIBIN Info</td>\n",
       "    </tr>\n",
       "    <tr>\n",
       "      <th>4</th>\n",
       "      <td>Assault with a Dangerous Weapon</td>\n",
       "      <td>144</td>\n",
       "      <td>39</td>\n",
       "      <td>183</td>\n",
       "      <td>21.31</td>\n",
       "      <td>Ballistics Evidence</td>\n",
       "    </tr>\n",
       "    <tr>\n",
       "      <th>5</th>\n",
       "      <td>Homicide</td>\n",
       "      <td>34</td>\n",
       "      <td>16</td>\n",
       "      <td>50</td>\n",
       "      <td>32.00</td>\n",
       "      <td>Ballistics Evidence</td>\n",
       "    </tr>\n",
       "    <tr>\n",
       "      <th>6</th>\n",
       "      <td>Robbery</td>\n",
       "      <td>8</td>\n",
       "      <td>8</td>\n",
       "      <td>16</td>\n",
       "      <td>50.00</td>\n",
       "      <td>Ballistics Evidence</td>\n",
       "    </tr>\n",
       "    <tr>\n",
       "      <th>7</th>\n",
       "      <td>Sex Abuse</td>\n",
       "      <td>0</td>\n",
       "      <td>1</td>\n",
       "      <td>1</td>\n",
       "      <td>100.00</td>\n",
       "      <td>Ballistics Evidence</td>\n",
       "    </tr>\n",
       "    <tr>\n",
       "      <th>8</th>\n",
       "      <td>Assault with a Dangerous Weapon</td>\n",
       "      <td>49</td>\n",
       "      <td>9</td>\n",
       "      <td>58</td>\n",
       "      <td>15.52</td>\n",
       "      <td>NIBIN Hits</td>\n",
       "    </tr>\n",
       "    <tr>\n",
       "      <th>9</th>\n",
       "      <td>Homicide</td>\n",
       "      <td>9</td>\n",
       "      <td>12</td>\n",
       "      <td>21</td>\n",
       "      <td>57.14</td>\n",
       "      <td>NIBIN Hits</td>\n",
       "    </tr>\n",
       "    <tr>\n",
       "      <th>10</th>\n",
       "      <td>Robbery</td>\n",
       "      <td>0</td>\n",
       "      <td>2</td>\n",
       "      <td>2</td>\n",
       "      <td>100.00</td>\n",
       "      <td>NIBIN Hits</td>\n",
       "    </tr>\n",
       "    <tr>\n",
       "      <th>11</th>\n",
       "      <td>Sex Abuse</td>\n",
       "      <td>0</td>\n",
       "      <td>0</td>\n",
       "      <td>0</td>\n",
       "      <td>0.00</td>\n",
       "      <td>NIBIN Hits</td>\n",
       "    </tr>\n",
       "  </tbody>\n",
       "</table>\n",
       "</div>"
      ],
      "text/plain": [
       "arrested                 Offense Category  False  True  Total  Clearance Rate  \\\n",
       "1         Assault with a Dangerous Weapon     60    23     83           27.71   \n",
       "2                                Homicide      5     2      7           28.57   \n",
       "0                                 Robbery    151    31    182           17.03   \n",
       "3                               Sex Abuse      1     1      2           50.00   \n",
       "4         Assault with a Dangerous Weapon    144    39    183           21.31   \n",
       "5                                Homicide     34    16     50           32.00   \n",
       "6                                 Robbery      8     8     16           50.00   \n",
       "7                               Sex Abuse      0     1      1          100.00   \n",
       "8         Assault with a Dangerous Weapon     49     9     58           15.52   \n",
       "9                                Homicide      9    12     21           57.14   \n",
       "10                                Robbery      0     2      2          100.00   \n",
       "11                              Sex Abuse      0     0      0            0.00   \n",
       "\n",
       "arrested         Type of Info  \n",
       "1               No NIBIN Info  \n",
       "2               No NIBIN Info  \n",
       "0               No NIBIN Info  \n",
       "3               No NIBIN Info  \n",
       "4         Ballistics Evidence  \n",
       "5         Ballistics Evidence  \n",
       "6         Ballistics Evidence  \n",
       "7         Ballistics Evidence  \n",
       "8                  NIBIN Hits  \n",
       "9                  NIBIN Hits  \n",
       "10                 NIBIN Hits  \n",
       "11                 NIBIN Hits  "
      ]
     },
     "execution_count": 17,
     "metadata": {},
     "output_type": "execute_result"
    }
   ],
   "source": [
    "no_nibin = generateCrosstabs(no_nibin_info) \n",
    "no_nibin[\"Type of Info\"] = 'No NIBIN Info'\n",
    "\n",
    "entries = generateCrosstabs(cases_entry)\n",
    "entries[\"Type of Info\"] = 'Ballistics Evidence'\n",
    "\n",
    "hits = generateCrosstabs(cases_nibin_hits)\n",
    "hits.loc[-1] = ['Sex Abuse', 0,0,0,0]\n",
    "hits[\"Type of Info\"] = 'NIBIN Hits'\n",
    "\n",
    "all_cases = no_nibin.append([entries, hits]).reset_index(drop = True)\n",
    "all_cases.sort_values(by = 'Offense Category', inplace = True)\n",
    "all_cases['Type of Info'] = pd.Categorical(all_cases['Type of Info'],\n",
    "                                           ['No NIBIN Info', 'Ballistics Evidence', 'NIBIN Hits'])\n",
    "all_cases.sort_values(by = 'Type of Info', inplace = True)\n",
    "all_cases"
   ]
  },
  {
   "cell_type": "code",
   "execution_count": 18,
   "metadata": {
    "scrolled": false
   },
   "outputs": [
    {
     "data": {
      "image/png": "[encoded data removed]",
      "text/plain": [
       "<Figure size 1080x648 with 1 Axes>"
      ]
     },
     "metadata": {},
     "output_type": "display_data"
    }
   ],
   "source": [
    "# Barplot broken out by type of offense and the level of NIBIN information available\n",
    "\n",
    "plt.figure(figsize = (15,9))\n",
    "sns.barplot(x='Offense Category', \n",
    "            y='Clearance Rate', \n",
    "            hue='Type of Info', \n",
    "            data=all_cases, \n",
    "            palette=[lab_blue, lab_pink, lab_grey])\n",
    "\n",
    "plt.xlabel('')\n",
    "plt.ylabel('Clearance Rate %', fontsize = 12)\n",
    "plt.title('Clearance Rates in 7D by Violent Crime Type and Type of NIBIN Information' + \n",
    "          '\\n between November 1, 2017 and April 30, 2019', fontsize = 14)\n",
    "\n",
    "plt.xticks(fontsize=12)\n",
    "plt.yticks(fontsize=12)\n",
    "plt.gca().legend().set_title('')\n",
    "\n",
    "showDataLabels(df=all_cases, varname='Total')"
   ]
  }
 ],
 "metadata": {
  "kernelspec": {
   "display_name": "Python 3",
   "language": "python",
   "name": "python3"
  },
  "language_info": {
   "codemirror_mode": {
    "name": "ipython",
    "version": 3
   },
   "file_extension": ".py",
   "mimetype": "text/x-python",
   "name": "python",
   "nbconvert_exporter": "python",
   "pygments_lexer": "ipython3",
   "version": "3.6.6"
  }
 },
 "nbformat": 4,
 "nbformat_minor": 2
}
