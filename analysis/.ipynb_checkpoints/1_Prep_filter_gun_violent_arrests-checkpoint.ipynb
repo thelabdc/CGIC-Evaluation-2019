{
 "cells": [
  {
   "cell_type": "markdown",
   "metadata": {},
   "source": [
    "This notebook filters the arrest and crimes data from MPD to generate dataframes for use in the `4_Quasi_Experimental_Analysis_Synthetic_Control.ipynb` notebook, because the pre-analysis plan specifies that we analyze the impact of the CGIC 2.0 improvements using 3 different types of arrests:\n",
    "\n",
    "- The broadest definition of gun-related arrests, which includes both charges categorized as a weapons-violations in which a gun was involved and violent crimes (assault with a dangerous weapon, homicides, and sex abuse) in which a gun was involved\n",
    "- Arrests for violent crimes (assault with a dangerous weapon, homicides, and sex abuse) in which a gun was used; and\n",
    "- Arrests for gun-related weapons violations \n",
    "\n",
    "This spits out 3 different csvs:\n",
    "- broad_arrests_161101_190430.csv\n",
    "- gun_arrests_161101_190430.csv\n",
    "- violent_gun_arrests_161101_190430.csv"
   ]
  },
  {
   "cell_type": "code",
   "execution_count": 1,
   "metadata": {},
   "outputs": [],
   "source": [
    "import pandas as pd\n",
    "import sys\n",
    "sys.path.append('..')\n",
    "import os\n",
    "import re\n",
    "\n",
    "#Where our data lives\n",
    "DATA_DIR = os.path.join('..', 'data')"
   ]
  },
  {
   "cell_type": "code",
   "execution_count": 2,
   "metadata": {},
   "outputs": [
    {
     "name": "stdout",
     "output_type": "stream",
     "text": [
      "(339714, 42)\n",
      "(83352, 23)\n"
     ]
    }
   ],
   "source": [
    "#Read in Data\n",
    "ARRESTS_FILE = os.path.join(DATA_DIR, 'all_arrests_2016_2019.csv')  #all arrests from 2016.\n",
    "arrests = pd.read_csv(ARRESTS_FILE, encoding = 'ISO-8859-1', dtype={'CCN':str})\n",
    "\n",
    "CRIMES_FILE = os.path.join(DATA_DIR, 'DCRCrime_161101_190430.csv')\n",
    "crimes = pd.read_csv(CRIMES_FILE, dtype={'CCN':str}) \n",
    "\n",
    "print(arrests.shape)\n",
    "print(crimes.shape)"
   ]
  },
  {
   "cell_type": "markdown",
   "metadata": {},
   "source": [
    "# Violent Gun Arrests"
   ]
  },
  {
   "cell_type": "code",
   "execution_count": 3,
   "metadata": {},
   "outputs": [
    {
     "name": "stdout",
     "output_type": "stream",
     "text": [
      "Violent Arrests Dimensions (13789, 42)\n",
      "Violent Gun Arrests Dimensions (1369, 42)\n"
     ]
    }
   ],
   "source": [
    "#These are the words that are associated with violent offenses\n",
    "violent_offenses = [\"Homicide\", \"Assault with a Dangerous Weapon\", \"Robbery\", \"Sex Abuse\"]\n",
    "violent_offenses = [x.lower() for x in violent_offenses] #convert to lower case\n",
    "\n",
    "#Filter data\n",
    "violent_arrests = arrests[arrests['Arrest Investigation Category/Description'].str.lower().isin(violent_offenses)]\n",
    "print('Violent Arrests Dimensions', violent_arrests.shape)\n",
    "\n",
    "# Get the CCNs where the weapons == Guns\n",
    "dcr_crime_guns_CCNs = crimes[crimes['DCR Weapon'] == 'GUN']['CCN'].copy()\n",
    "\n",
    "violent_gun_arrests = violent_arrests[violent_arrests.CCN.isin(dcr_crime_guns_CCNs)]\n",
    "\n",
    "print('Violent Gun Arrests Dimensions', violent_gun_arrests.shape) "
   ]
  },
  {
   "cell_type": "markdown",
   "metadata": {},
   "source": [
    "# Gun Arrests"
   ]
  },
  {
   "cell_type": "code",
   "execution_count": 4,
   "metadata": {},
   "outputs": [
    {
     "data": {
      "text/plain": [
       "(14800, 42)"
      ]
     },
     "execution_count": 4,
     "metadata": {},
     "output_type": "execute_result"
    }
   ],
   "source": [
    "#For current data \n",
    "\n",
    "# This is the list of gun-related words and not-gun related words from Daniel Sebastian @ MPD\n",
    "gun_words = 'gun|pistol|firearm|rifle|capacity|ammunition|felon in possession|cpwol|alter id marks|unlawful shipment' \n",
    "not_gun_words = 'bb|inauguration'\n",
    "\n",
    "\n",
    "# First, filter our dataset so that the arrest description is specifically for weapons violations\n",
    "weapons_arrests = \\\n",
    "    arrests[arrests['Arrest Investigation Category/Description'] == 'Weapon Violations']\n",
    "\n",
    "# Get rid of the rows where we would not be able to filter for gun-related words\n",
    "weapons_arrests = weapons_arrests[(weapons_arrests['Charge Description'].notnull())]\n",
    "\n",
    "# Filter for gun words, ignoring the case\n",
    "gun_arrests = weapons_arrests[weapons_arrests['Charge Description']\\\n",
    "                             .str.contains(gun_words, flags = re.IGNORECASE, regex = True)]\n",
    "\n",
    "#Take out the ones that are not gun-related words but will pop up based on words above\n",
    "gun_arrests = gun_arrests[~gun_arrests['Charge Description']\\\n",
    "                          .str.contains(not_gun_words,  flags = re.IGNORECASE, regex = True)]\n",
    "\n",
    "gun_arrests.shape"
   ]
  },
  {
   "cell_type": "markdown",
   "metadata": {},
   "source": [
    "# Broad Arrests"
   ]
  },
  {
   "cell_type": "code",
   "execution_count": 5,
   "metadata": {},
   "outputs": [
    {
     "data": {
      "text/plain": [
       "(16169, 42)"
      ]
     },
     "execution_count": 5,
     "metadata": {},
     "output_type": "execute_result"
    }
   ],
   "source": [
    "#The definititon of broad arrests here is the just violent gun arrests and gun arrests concatenated\n",
    "\n",
    "broad_arrests = violent_gun_arrests.append(gun_arrests)\n",
    "broad_arrests.drop_duplicates(inplace = True)\n",
    "broad_arrests.shape"
   ]
  },
  {
   "cell_type": "markdown",
   "metadata": {},
   "source": [
    "# Write to CSVs"
   ]
  },
  {
   "cell_type": "code",
   "execution_count": 6,
   "metadata": {},
   "outputs": [],
   "source": [
    "gun_arrests.to_csv(os.path.join(DATA_DIR, 'gun_arrests_161101_190430.csv'), index = False)\n",
    "violent_gun_arrests.to_csv(os.path.join(DATA_DIR, 'violent_gun_arrests_161101_190430.csv'), index = False)\n",
    "broad_arrests.to_csv(os.path.join(DATA_DIR, 'broad_arrests_161101_190430.csv'), index = False)"
   ]
  }
 ],
 "metadata": {
  "kernelspec": {
   "display_name": "Python 3",
   "language": "python",
   "name": "python3"
  },
  "language_info": {
   "codemirror_mode": {
    "name": "ipython",
    "version": 3
   },
   "file_extension": ".py",
   "mimetype": "text/x-python",
   "name": "python",
   "nbconvert_exporter": "python",
   "pygments_lexer": "ipython3",
   "version": "3.7.6"
  }
 },
 "nbformat": 4,
 "nbformat_minor": 2
}
